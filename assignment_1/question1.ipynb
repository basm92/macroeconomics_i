{
 "cells": [
  {
   "cell_type": "markdown",
   "id": "18f00876",
   "metadata": {},
   "source": [
    "## Assignment 1\n",
    "\n",
    "We first import the necessary libraries:"
   ]
  },
  {
   "cell_type": "code",
   "execution_count": 2,
   "id": "d92c3cc6",
   "metadata": {},
   "outputs": [],
   "source": [
    "%matplotlib inline\n",
    "import matplotlib.pyplot as plt\n",
    "plt.rcParams[\"figure.figsize\"] = (11, 5)  #set default figure size\n",
    "from numba import njit, float64\n",
    "from numba.experimental import jitclass\n",
    "import numpy as np"
   ]
  },
  {
   "cell_type": "markdown",
   "id": "a846350b",
   "metadata": {},
   "source": [
    "Now, we define an instance of the optimal growth model. "
   ]
  },
  {
   "cell_type": "code",
   "execution_count": 5,
   "id": "5b534552",
   "metadata": {},
   "outputs": [],
   "source": [
    "class ogm():\n",
    "\n",
    "    def __init__(self, σ=1, β=0.984, δ=0.025, α=1/3):\n",
    "\n",
    "        self.σ, self.β, self.δ, self.α = σ, β, δ, α\n",
    "\n",
    "    def u(self, c):\n",
    "        '''\n",
    "        Utility function\n",
    "        ASIDE: If you have a utility function that is hard to solve by hand\n",
    "        you can use automatic or symbolic differentiation\n",
    "        See https://github.com/HIPS/autograd\n",
    "        '''\n",
    "        σ = self.σ\n",
    "\n",
    "        return c ** (1 - σ) / (1 - σ) if σ!= 1 else np.log(c)\n",
    "\n",
    "    def u_prime(self, c):\n",
    "        'Derivative of utility'\n",
    "        σ = self.σ\n",
    "\n",
    "        return c ** (-σ)\n",
    "\n",
    "    def u_prime_inv(self, c):\n",
    "        'Inverse of derivative of utility'\n",
    "        σ = self.σ\n",
    "\n",
    "        return c ** (-1 / σ)\n",
    "\n",
    "    def f(self, k):\n",
    "        'Production function'\n",
    "        α = self.α\n",
    "\n",
    "        return k ** α\n",
    "\n",
    "    def f_prime(self, k):\n",
    "        'Derivative of production function'\n",
    "        α = self.α\n",
    "\n",
    "        return α * k ** (α - 1)\n",
    "\n",
    "    def f_prime_inv(self, k):\n",
    "        'Inverse of derivative of production function'\n",
    "        α = self.α \n",
    "\n",
    "        return (k / α) ** (1 / (α - 1))\n",
    "\n",
    "    def next_k_c(self, k, c):\n",
    "        ''''\n",
    "        Given the current capital Kt and an arbitrary feasible\n",
    "        consumption choice Ct, computes Kt+1 by state transition law\n",
    "        and optimal Ct+1 by Euler equation.\n",
    "        '''\n",
    "        β, δ = self.β, self.δ\n",
    "        u_prime, u_prime_inv = self.u_prime, self.u_prime_inv\n",
    "        f, f_prime = self.f, self.f_prime\n",
    "\n",
    "        k_next = f(k) + (1 - δ) * k - c\n",
    "        c_next = u_prime_inv(u_prime(c) / (β * (f_prime(k_next) + (1 - δ))))\n",
    "\n",
    "        return k_next, c_next"
   ]
  },
  {
   "cell_type": "code",
   "execution_count": null,
   "id": "56f75cb0",
   "metadata": {},
   "outputs": [],
   "source": []
  },
  {
   "cell_type": "code",
   "execution_count": null,
   "id": "4db8c849",
   "metadata": {},
   "outputs": [],
   "source": []
  }
 ],
 "metadata": {
  "kernelspec": {
   "display_name": "Python 3",
   "language": "python",
   "name": "python3"
  },
  "language_info": {
   "codemirror_mode": {
    "name": "ipython",
    "version": 3
   },
   "file_extension": ".py",
   "mimetype": "text/x-python",
   "name": "python",
   "nbconvert_exporter": "python",
   "pygments_lexer": "ipython3",
   "version": "3.7.10"
  },
  "varInspector": {
   "cols": {
    "lenName": 16,
    "lenType": 16,
    "lenVar": 40
   },
   "kernels_config": {
    "python": {
     "delete_cmd_postfix": "",
     "delete_cmd_prefix": "del ",
     "library": "var_list.py",
     "varRefreshCmd": "print(var_dic_list())"
    },
    "r": {
     "delete_cmd_postfix": ") ",
     "delete_cmd_prefix": "rm(",
     "library": "var_list.r",
     "varRefreshCmd": "cat(var_dic_list()) "
    }
   },
   "types_to_exclude": [
    "module",
    "function",
    "builtin_function_or_method",
    "instance",
    "_Feature"
   ],
   "window_display": false
  }
 },
 "nbformat": 4,
 "nbformat_minor": 5
}
