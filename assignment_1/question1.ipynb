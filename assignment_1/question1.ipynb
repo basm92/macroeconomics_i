{
 "cells": [
  {
   "cell_type": "markdown",
   "id": "3afd15e2",
   "metadata": {},
   "source": [
    "## Assignment 1\n",
    "\n",
    "We first import the necessary libraries:"
   ]
  },
  {
   "cell_type": "code",
   "execution_count": 47,
   "id": "4e3230e6",
   "metadata": {},
   "outputs": [],
   "source": [
    "%matplotlib inline\n",
    "import matplotlib.pyplot as plt\n",
    "plt.rcParams[\"figure.figsize\"] = (11, 5)  #set default figure size\n",
    "from numba import njit, float64\n",
    "from numba.experimental import jitclass\n",
    "from scipy.optimize import fsolve, minimize_scalar, bisect\n",
    "import numpy as np\n",
    "from interpolation import interp"
   ]
  },
  {
   "cell_type": "code",
   "execution_count": 118,
   "id": "55d5c357",
   "metadata": {},
   "outputs": [],
   "source": [
    "def maximize(g, a, b, args):\n",
    "    \"\"\"\n",
    "    Maximize the function g over the interval [a, b].\n",
    "\n",
    "    We use the fact that the maximizer of g on any interval is\n",
    "    also the minimizer of -g.  The tuple args collects any extra\n",
    "    arguments to g.\n",
    "\n",
    "    Returns the maximal value and the maximizer.\n",
    "    \"\"\"\n",
    "\n",
    "    objective = lambda x: -g(x, *args)\n",
    "    result = minimize_scalar(objective, bounds=(a, b), method='bounded')\n",
    "    maximizer, maximum = result.x, -result.fun\n",
    "    return maximizer, maximum"
   ]
  },
  {
   "cell_type": "markdown",
   "id": "9a3271d3",
   "metadata": {},
   "source": [
    "Now, we define an instance of the optimal growth model. "
   ]
  },
  {
   "cell_type": "code",
   "execution_count": 133,
   "id": "9a0f4fdf",
   "metadata": {},
   "outputs": [],
   "source": [
    "class ngm():\n",
    "\n",
    "    def __init__(self, σ=1, β=0.984, δ=0.025, α=1/3, k0 = 1):\n",
    "        'Parameters:'\n",
    "        self.σ, self.β, self.δ, self.α, self.k0 = σ, β, δ, α, k0\n",
    "        \n",
    "        'Endogenous outcomes and endogenous grid:'\n",
    "        self.steadystate = self.find_ss()\n",
    "        self.k0 = 0.75*self.find_ss()\n",
    "        self.grid = self.create_grid(self.steadystate)\n",
    "        self.v_initial = self.v_initial()\n",
    "\n",
    "    def u(self, c):\n",
    "        '''\n",
    "        Utility function\n",
    "        '''\n",
    "        σ = self.σ\n",
    "\n",
    "        return c ** (1 - σ) / (1 - σ) if σ!= 1 else np.log(c)\n",
    "\n",
    "    def u_prime(self, c):\n",
    "        'Derivative of utility'\n",
    "        σ = self.σ\n",
    "\n",
    "        return c ** (-σ)\n",
    "\n",
    "    def u_prime_inv(self, c):\n",
    "        'Inverse of derivative of utility'\n",
    "        σ = self.σ\n",
    "\n",
    "        return c ** (-1 / σ)\n",
    "\n",
    "    def f(self, k):\n",
    "        'Production function'\n",
    "        α = self.α\n",
    "\n",
    "        return k ** α\n",
    "\n",
    "    def f_prime(self, k):\n",
    "        'Derivative of production function'\n",
    "        α = self.α\n",
    "\n",
    "        return α * k ** (α - 1)\n",
    "\n",
    "    def f_prime_inv(self, k):\n",
    "        'Inverse of derivative of production function'\n",
    "        α = self.α \n",
    "\n",
    "        return (k / α) ** (1 / (α - 1))\n",
    "    \n",
    "    def ss(self, k):\n",
    "        'Define the steady-state equation'\n",
    "        β, δ = self.β, self.δ\n",
    "        f_prime = self.f_prime\n",
    "        \n",
    "        return β*(f_prime(k) + (1-δ)) - 1\n",
    "        \n",
    "    def find_ss(self):\n",
    "        'Solve the steady-state equation'\n",
    "        ss = self.ss\n",
    "        steady_state = fsolve(ss, 1e-10)\n",
    "        return steady_state[0]\n",
    "    \n",
    "    def create_grid(self, reference):\n",
    "        'Create a grid as prescribed in the assignment'\n",
    "        grid = np.linspace(0.5 * reference, 1.5 * reference, 1000)\n",
    "        return grid\n",
    "    \n",
    "    def v_initial(self):\n",
    "        'Create initialization for value function'\n",
    "        grid = self.grid\n",
    "        v_initial = np.empty_like(grid)\n",
    "        return v_initial      \n",
    "    \n",
    "    def state_action_value(self, k, k_new, v_array):\n",
    "        \n",
    "        v = lambda x: interp(self.grid, v_array, x) \n",
    "        \n",
    "        u, f = self.u, self.f\n",
    "        β, δ = self.β, self.δ\n",
    "        return u(f(k) + (1-δ)*k - k_new) + β*v(k_new) #k_new is the thing we solve for\n",
    "        # This is the right hand side of the bellman"
   ]
  },
  {
   "cell_type": "markdown",
   "id": "136fc193",
   "metadata": {},
   "source": [
    "Next, we implement part two of the code, iteration of the bellman equation"
   ]
  },
  {
   "cell_type": "code",
   "execution_count": 136,
   "id": "8699e632",
   "metadata": {},
   "outputs": [],
   "source": [
    "def T(v, ngm):\n",
    "    \"\"\"\n",
    "    The Bellman operator.  Updates the guess of the value function.\n",
    "    * v is an array representing a guess of the value function\n",
    "\n",
    "    \"\"\"\n",
    "    v_new = np.empty_like(v)\n",
    "    \n",
    "    for i, x in enumerate(ngm.grid):\n",
    "        # Maximize RHS of Bellman equation at state x\n",
    "        v_new[i] = maximize(ngm.state_action_value, (1-ngm.δ)*x, ngm.f(x) + (1-ngm.δ)*x, (x, v))[1]\n",
    "\n",
    "    return v_new"
   ]
  },
  {
   "cell_type": "code",
   "execution_count": null,
   "id": "e8ac106b",
   "metadata": {},
   "outputs": [],
   "source": []
  },
  {
   "cell_type": "code",
   "execution_count": null,
   "id": "296e45c5",
   "metadata": {},
   "outputs": [],
   "source": []
  },
  {
   "cell_type": "code",
   "execution_count": null,
   "id": "8b1fe107",
   "metadata": {},
   "outputs": [],
   "source": []
  },
  {
   "cell_type": "code",
   "execution_count": null,
   "id": "19bfb62f",
   "metadata": {},
   "outputs": [],
   "source": []
  }
 ],
 "metadata": {
  "kernelspec": {
   "display_name": "Python 3",
   "language": "python",
   "name": "python3"
  },
  "language_info": {
   "codemirror_mode": {
    "name": "ipython",
    "version": 3
   },
   "file_extension": ".py",
   "mimetype": "text/x-python",
   "name": "python",
   "nbconvert_exporter": "python",
   "pygments_lexer": "ipython3",
   "version": "3.7.10"
  },
  "varInspector": {
   "cols": {
    "lenName": 16,
    "lenType": 16,
    "lenVar": 40
   },
   "kernels_config": {
    "python": {
     "delete_cmd_postfix": "",
     "delete_cmd_prefix": "del ",
     "library": "var_list.py",
     "varRefreshCmd": "print(var_dic_list())"
    },
    "r": {
     "delete_cmd_postfix": ") ",
     "delete_cmd_prefix": "rm(",
     "library": "var_list.r",
     "varRefreshCmd": "cat(var_dic_list()) "
    }
   },
   "types_to_exclude": [
    "module",
    "function",
    "builtin_function_or_method",
    "instance",
    "_Feature"
   ],
   "window_display": false
  }
 },
 "nbformat": 4,
 "nbformat_minor": 5
}
