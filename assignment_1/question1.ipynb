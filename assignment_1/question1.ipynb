{
 "cells": [
  {
   "cell_type": "markdown",
   "id": "3afd15e2",
   "metadata": {},
   "source": [
    "## Assignment 1\n",
    "\n",
    "We first import the necessary libraries:"
   ]
  },
  {
   "cell_type": "code",
   "execution_count": 83,
   "id": "4e3230e6",
   "metadata": {},
   "outputs": [],
   "source": [
    "%matplotlib inline\n",
    "import matplotlib.pyplot as plt\n",
    "plt.rcParams[\"figure.figsize\"] = (11, 5)  #set default figure size\n",
    "from numba import njit, float64\n",
    "from numba.experimental import jitclass\n",
    "from scipy.optimize import fsolve, minimize_scalar, bisect\n",
    "from interpolation import interp\n",
    "import numpy as np\n",
    "from scipy.interpolate import interp1d\n",
    "from scipy.optimize import minimize_scalar"
   ]
  },
  {
   "cell_type": "markdown",
   "id": "1be57616",
   "metadata": {},
   "source": [
    "We redefine `scipy.optimize.minimize` to a maximizer function, because we have to maximize something in the Bellman-equation. "
   ]
  },
  {
   "cell_type": "code",
   "execution_count": 84,
   "id": "55d5c357",
   "metadata": {},
   "outputs": [],
   "source": [
    "def maximize(g, a, b, args):\n",
    "    \"\"\"\n",
    "    Maximize the function g over the interval [a, b].\n",
    "\n",
    "    We use the fact that the maximizer of g on any interval is\n",
    "    also the minimizer of -g.  The tuple args collects any extra\n",
    "    arguments to g.\n",
    "\n",
    "    Returns the maximal value and the maximizer.\n",
    "    \"\"\"\n",
    "\n",
    "    objective = lambda x: -g(x, *args)\n",
    "    result = minimize_scalar(objective, bounds=(a, b), method='bounded')\n",
    "    maximizer, maximum = result.x, -result.fun\n",
    "    return maximizer, maximum"
   ]
  },
  {
   "cell_type": "markdown",
   "id": "9a3271d3",
   "metadata": {},
   "source": [
    "Now, we define an instance of the neoclassical growth model. "
   ]
  },
  {
   "cell_type": "code",
   "execution_count": 85,
   "id": "9a0f4fdf",
   "metadata": {},
   "outputs": [],
   "source": [
    "class ngm():\n",
    "\n",
    "    def __init__(self, σ=1, β=0.984, δ=0.025, α=1/3):\n",
    "        'Parameters:'\n",
    "        self.σ, self.β, self.δ, self.α = σ, β, δ, α\n",
    "        \n",
    "        'Endogenous outcomes and endogenous grid:'\n",
    "        self.steadystate = self.ss()\n",
    "        self.k0 = 0.75*self.ss()\n",
    "        self.grid = self.create_grid(self.steadystate)\n",
    "        self.v_initial = self.v_initial()\n",
    "\n",
    "    def u(self, c):\n",
    "        'Utility function'\n",
    "        σ = self.σ\n",
    "\n",
    "        return c ** (1 - σ) / (1 - σ) if σ!= 1 else np.log(c)\n",
    "\n",
    "    def u_prime(self, c):\n",
    "        'Derivative of utility'\n",
    "        σ = self.σ\n",
    "\n",
    "        return c ** (-σ)\n",
    "\n",
    "    def f(self, k):\n",
    "        'Production function'\n",
    "        α = self.α\n",
    "\n",
    "        return k ** α\n",
    "\n",
    "    def f_prime(self, k):\n",
    "        'Derivative of production function'\n",
    "        α = self.α\n",
    "\n",
    "        return α * k ** (α - 1)\n",
    "    \n",
    "    def f_prime_inv(self, k):\n",
    "        'Inverse of derivative of production function'\n",
    "        α = self.α \n",
    "\n",
    "        return (k / α) ** (1 / (α - 1))\n",
    "\n",
    "    def ss(self):\n",
    "        'Define the steady-state equation s.t. RHS=0'\n",
    "        β, δ = self.β, self.δ\n",
    "        f_prime_inv = self.f_prime_inv\n",
    "        \n",
    "        return f_prime_inv(1/β - (1-δ))\n",
    "    \n",
    "    def create_grid(self, reference):\n",
    "        'Create a grid as prescribed in the assignment'\n",
    "        grid = np.linspace(0.5 * reference, 1.5 * reference, 1000)\n",
    "        return grid\n",
    "    \n",
    "    def v_initial(self):\n",
    "        'Create initialization for value function'\n",
    "        grid = self.grid\n",
    "        v_initial = np.zeros_like(grid)\n",
    "        return v_initial      \n",
    "    \n",
    "    def state_action_value(self, k_new, k, v_array):\n",
    "        v = lambda x: interp(self.grid, v_array, x)\n",
    "        \n",
    "        u, f = self.u, self.f\n",
    "        β, δ = self.β, self.δ\n",
    "        return u(f(k) + (1-δ)*k - k_new) + β*v(k_new)   #k_new is the thing we solve for\n",
    "                                                        # This is the right hand side of the bellman"
   ]
  },
  {
   "cell_type": "markdown",
   "id": "136fc193",
   "metadata": {},
   "source": [
    "Next, we implement part two of the code, first, iteration of the Bellman equation in terms of the state variable $k$, and we solve for $k_{new}$, and then evaluate at the maximum to get a new value function:"
   ]
  },
  {
   "cell_type": "code",
   "execution_count": 86,
   "id": "8699e632",
   "metadata": {},
   "outputs": [],
   "source": [
    "def T(v, ngm):\n",
    "    \"\"\"\n",
    "    The Bellman operator.  Updates the guess of the value function.\n",
    "    * v is an array representing a guess of the value function\n",
    "\n",
    "    \"\"\"\n",
    "    v_new = np.empty_like(v)\n",
    "    v_array = v\n",
    "    \n",
    "    for i, k in enumerate(ngm.grid):\n",
    "        # Maximize RHS of Bellman equation at state x\n",
    "        v_new[i] = maximize(ngm.state_action_value, (1-ngm.δ)*k, ngm.f(k) + (1-ngm.δ)*k, (k, v_array))[1]\n",
    "\n",
    "    return v_new"
   ]
  },
  {
   "cell_type": "markdown",
   "id": "c3a73230",
   "metadata": {},
   "source": [
    "Ηere is the full algorithm finding the value function:"
   ]
  },
  {
   "cell_type": "code",
   "execution_count": 87,
   "id": "e8ac106b",
   "metadata": {},
   "outputs": [],
   "source": [
    "def compute_value_function(ngm,\n",
    "                           tol=1e-4,\n",
    "                           max_iter=1000,\n",
    "                           verbose=True,\n",
    "                           print_skip=100):\n",
    "    'Compute the value function through the fixed point of a contraction mapping'\n",
    "    # Set up loop\n",
    "    v = ngm.v_initial # Initial guess\n",
    "    i = 0\n",
    "    error = tol + 1\n",
    "\n",
    "    while i < max_iter and error > tol:\n",
    "        v_new = T(v, ngm)\n",
    "\n",
    "        error = np.max(np.abs(v - v_new))\n",
    "        i += 1\n",
    "\n",
    "        if verbose and i % print_skip == 0:\n",
    "            print(f\"Error at iteration {i} is {error}.\")\n",
    "\n",
    "        v = v_new\n",
    "\n",
    "    if i == max_iter:\n",
    "        print(\"Failed to converge!\")\n",
    "\n",
    "    if verbose and i < max_iter:\n",
    "        print(f\"\\nConverged in {i} iterations.\")\n",
    "\n",
    "    return v_new"
   ]
  },
  {
   "cell_type": "code",
   "execution_count": 88,
   "id": "296e45c5",
   "metadata": {},
   "outputs": [
    {
     "name": "stdout",
     "output_type": "stream",
     "text": [
      "Error at iteration 100 is 0.16478228195050804.\n",
      "Error at iteration 200 is 0.03284130120199791.\n",
      "Error at iteration 300 is 0.006545309676980082.\n",
      "Error at iteration 400 is 0.0013044878613257538.\n",
      "Error at iteration 500 is 0.0002599859539884619.\n",
      "\n",
      "Converged in 560 iterations.\n"
     ]
    }
   ],
   "source": [
    "v_conv = compute_value_function(ngm())"
   ]
  },
  {
   "cell_type": "code",
   "execution_count": 89,
   "id": "b5444627",
   "metadata": {},
   "outputs": [],
   "source": [
    "def π(ngm, v):\n",
    "    'Find the policy function given a model instance and a (converged) value function'\n",
    "    k_prime = np.zeros_like(v)\n",
    "    c_prime = np.zeros_like(v)\n",
    "    \n",
    "    for i in range(len(ngm.grid)):\n",
    "        k = ngm.grid[i]\n",
    "        # Maximize RHS of Bellman equation at state x\n",
    "        k_prime[i] = maximize(ngm.state_action_value, (1-ngm.δ)*k, ngm.f(k) + (1-ngm.δ)*k, (k, v))[0] #K_t+1\n",
    "        c_prime[i] = ngm.f(k) + (1-ngm.δ)*k - k_prime[i]  #C_t\n",
    "    \n",
    "    return c_prime, k_prime\n",
    "    "
   ]
  },
  {
   "cell_type": "code",
   "execution_count": 106,
   "id": "53d568f5",
   "metadata": {},
   "outputs": [],
   "source": [
    "c_opt, k_opt = π(ngm(), v_conv)"
   ]
  },
  {
   "cell_type": "code",
   "execution_count": 107,
   "id": "c5dc53d1",
   "metadata": {},
   "outputs": [
    {
     "data": {
      "image/png": "[encoded data removed]",
      "text/plain": [
       "<Figure size 792x360 with 1 Axes>"
      ]
     },
     "metadata": {
      "needs_background": "light"
     },
     "output_type": "display_data"
    }
   ],
   "source": [
    "fig, ax = plt.subplots()\n",
    "\n",
    "#ax.plot(ngm().grid, k_opt, color=plt.cm.jet(0),\n",
    "#        lw=2, alpha=0.6, label = 'Optimal K')\n",
    "\n",
    "ax.plot(ngm().grid, c_opt, color=plt.cm.jet(4/5),\n",
    "        lw=2, alpha=0.6, label = 'Optimal K')\n",
    "#ax.axvline(x=ngm().steadystate)\n",
    "#ax.hlines(y=ngm().steadystate, xmin = 10, xmax = 35)\n",
    "\n",
    "\n",
    "ax.legend()\n",
    "ax.set_ylabel('$C(t+1)$', fontsize=12)\n",
    "ax.set_xlabel('Initial Capital $K$', fontsize=12)\n",
    "ax.set_title('Optimal Policy')\n",
    "\n",
    "plt.show()"
   ]
  },
  {
   "cell_type": "code",
   "execution_count": 108,
   "id": "6e3cbe10",
   "metadata": {},
   "outputs": [
    {
     "data": {
      "image/png": "[encoded data removed]",
      "text/plain": [
       "<Figure size 792x360 with 1 Axes>"
      ]
     },
     "metadata": {
      "needs_background": "light"
     },
     "output_type": "display_data"
    }
   ],
   "source": [
    "#v_conv_5 = compute_value_function(ngm(σ=5))\n",
    "c_opt, k_opt = π(ngm(σ=5), v_conv_5)\n",
    "\n",
    "fig, ax = plt.subplots()\n",
    "\n",
    "ax.plot(ngm().grid, c_opt, color=plt.cm.jet(4/5),\n",
    "        lw=2, alpha=0.6, label = 'Optimal K')\n",
    "\n",
    "\n",
    "\n",
    "ax.legend()\n",
    "ax.set_ylabel('$C(t+1)$', fontsize=12)\n",
    "ax.set_xlabel('Initial Capital $K$', fontsize=12)\n",
    "ax.set_title('Optimal Policy')\n",
    "\n",
    "plt.show()"
   ]
  },
  {
   "cell_type": "code",
   "execution_count": 109,
   "id": "4b890a05",
   "metadata": {},
   "outputs": [],
   "source": [
    "def plot_policy(ngm, v, T):\n",
    "    'Plot a policy function starting from k0, on the basis of an array of the policy function'\n",
    "    grid = ngm.grid\n",
    "    \n",
    "    k = []\n",
    "    k.append(ngm.k0)\n",
    "    \n",
    "    for i in range(T):\n",
    "        k.append(\n",
    "            maximize(\n",
    "                ngm.state_action_value, (1-ngm.δ)*k[i-1], ngm.f(k[i-1]) + (1-ngm.δ)*k[i-1], (k[i-1], v))[0])\n",
    "        \n",
    "    fig, ax = plt.subplots()\n",
    "    ax.plot(range(T+1), k, color=plt.cm.jet(0),\n",
    "        lw=2, alpha=0.6, label = 'Policy Path Starting from k0')\n",
    "    \n",
    "    ax.legend()\n",
    "    ax.set_ylabel('Optimal Capital Chosen', fontsize=12)\n",
    "    ax.set_xlabel('Time $t$', fontsize=12)\n",
    "    ax.set_title('Optimal Policy Starting from $K_0$')\n",
    "    \n",
    "    plt.show()\n",
    "    "
   ]
  },
  {
   "cell_type": "code",
   "execution_count": 111,
   "id": "45d9ccc5",
   "metadata": {},
   "outputs": [
    {
     "data": {
      "image/png": "[encoded data removed]",
      "text/plain": [
       "<Figure size 792x360 with 1 Axes>"
      ]
     },
     "metadata": {
      "needs_background": "light"
     },
     "output_type": "display_data"
    }
   ],
   "source": [
    "plot_policy(ngm(σ=5), v_conv_5, 250)"
   ]
  },
  {
   "cell_type": "code",
   "execution_count": 113,
   "id": "cec58cf3",
   "metadata": {},
   "outputs": [
    {
     "data": {
      "text/plain": [
       "22.962634609403963"
      ]
     },
     "execution_count": 113,
     "metadata": {},
     "output_type": "execute_result"
    }
   ],
   "source": [
    "ngm().steadystate"
   ]
  },
  {
   "cell_type": "code",
   "execution_count": 48,
   "id": "1423e71c",
   "metadata": {},
   "outputs": [],
   "source": [
    "# Still some mistakes in code, although basic architecture should work.. "
   ]
  },
  {
   "cell_type": "code",
   "execution_count": null,
   "id": "70f6b881",
   "metadata": {},
   "outputs": [],
   "source": []
  }
 ],
 "metadata": {
  "kernelspec": {
   "display_name": "Python 3",
   "language": "python",
   "name": "python3"
  },
  "varInspector": {
   "cols": {
    "lenName": 16,
    "lenType": 16,
    "lenVar": 40
   },
   "kernels_config": {
    "python": {
     "delete_cmd_postfix": "",
     "delete_cmd_prefix": "del ",
     "library": "var_list.py",
     "varRefreshCmd": "print(var_dic_list())"
    },
    "r": {
     "delete_cmd_postfix": ") ",
     "delete_cmd_prefix": "rm(",
     "library": "var_list.r",
     "varRefreshCmd": "cat(var_dic_list()) "
    }
   },
   "types_to_exclude": [
    "module",
    "function",
    "builtin_function_or_method",
    "instance",
    "_Feature"
   ],
   "window_display": false
  }
 },
 "nbformat": 4,
 "nbformat_minor": 5
}
