{
 "cells": [
  {
   "cell_type": "markdown",
   "id": "035d1be4",
   "metadata": {},
   "source": [
    "## Problem Set 1 Question 2"
   ]
  },
  {
   "cell_type": "markdown",
   "id": "4c258b4a",
   "metadata": {},
   "source": [
    "First, we load libraries again, included in e.g. Conda python. "
   ]
  },
  {
   "cell_type": "code",
   "execution_count": 1,
   "id": "1bfe5c39",
   "metadata": {},
   "outputs": [],
   "source": [
    "%matplotlib inline\n",
    "import matplotlib.pyplot as plt\n",
    "plt.rcParams[\"figure.figsize\"] = (11, 5)  #set default figure size\n",
    "\n",
    "import numpy as np"
   ]
  },
  {
   "cell_type": "markdown",
   "id": "5accc4d1",
   "metadata": {},
   "source": [
    "## Implement the model\n"
   ]
  },
  {
   "cell_type": "code",
   "execution_count": 11,
   "id": "75f74dbc",
   "metadata": {},
   "outputs": [],
   "source": [
    "class iam():\n",
    "\n",
    "    def __init__(self, σ=1, β=0.75, δ=0.5, α=1/3,\n",
    "                a1 = 0.06, a2 = 2.8, b1 = 0.5, b2 = 2,\n",
    "                γ = 0.13,\n",
    "                φ = 0.06):\n",
    "        'Parameters:'\n",
    "        self.σ, self.β, self.δ, self.α, self.a1, self.a2, self.b1, self.b2, self.γ, self.φ = σ, β, δ, α, a1, a2, b1, b2, γ, φ\n",
    "        \n",
    "        'Endogenous outcomes and endogenous grid:'\n",
    "        self.k0 = 0.1\n",
    "        self.m0 = 0\n",
    "        \n",
    "        self.steadystate = self.ss()\n",
    "        self.grid = self.create_grid()\n",
    "        self.v_initial = self.v_initial()\n",
    "\n",
    "    def u(self, c):\n",
    "        'Utility function'\n",
    "        σ = self.σ\n",
    "\n",
    "        return c ** (1 - σ) / (1 - σ) if σ!= 1 else np.log(c)\n",
    "\n",
    "    def u_prime(self, c):\n",
    "        'Derivative of utility'\n",
    "        σ = self.σ\n",
    "\n",
    "        return c ** (-σ)\n",
    "\n",
    "    def f(self, k):\n",
    "        'Production function'\n",
    "        α = self.α\n",
    "\n",
    "        return k ** α\n",
    "\n",
    "    def f_prime(self, k):\n",
    "        'Derivative of production function'\n",
    "        α = self.α\n",
    "\n",
    "        return α * k ** (α - 1)\n",
    "    \n",
    "    def f_prime_inv(self, k):\n",
    "        'Inverse of derivative of production function'\n",
    "        α = self.α \n",
    "\n",
    "        return (k / α) ** (1 / (α - 1))\n",
    "\n",
    "    def ss(self):\n",
    "        'Define the steady-state equation s.t. RHS=0'\n",
    "        β, δ = self.β, self.δ\n",
    "        f_prime_inv = self.f_prime_inv\n",
    "        \n",
    "        return f_prime_inv(1/β - (1-δ))\n",
    "    \n",
    "    def create_grid(self):\n",
    "        'Create a grid as prescribed in the assignment'\n",
    "        n_k = 100j\n",
    "        n_m = 100j\n",
    "        k1, k_nk = 0.1, 0.4\n",
    "        m1, m_nm = 0, 0.5\n",
    "\n",
    "        s = np.mgrid[k1:k_nk:n_k, m1:m_nm:n_m].reshape(2,-1).T\n",
    "\n",
    "        return s\n",
    "    \n",
    "    def v_initial(self):\n",
    "        'Create initialization for value function'\n",
    "        grid = self.grid\n",
    "        v_initial = np.zeros_like(grid)\n",
    "        return v_initial      \n",
    "    \n",
    "    def state_action_value(self, k_new, m_new, k, m, v_array):\n",
    "        # interpolation of value function (probably not necessary)\n",
    "        v = lambda x: interp(self.grid, v_array, x)\n",
    "        #functions\n",
    "        u, f = self.u, self.f\n",
    "        #parameters\n",
    "        β, δ, a1, a2, b1, b2, φ, γ, α = self.β, self.δ, self.a1, self.a2, self.b1, self.b2, self.φ, self.γ, self.α\n",
    "        \n",
    "        #write the bellman eq. in separate, tractable parts\n",
    "        first_part = ((m_new - (1-φ)*m)*k**(-α))/γ\n",
    "        second_part = (1-a1*(1-first_part)**(a2))*k**α\n",
    "        third_part = second_part / (1 + m**b2)\n",
    "        final_part = third_part + (1-δ)*k - k_new\n",
    "                \n",
    "        return  u(final_part) + β*v(k_new, m_new)   #k_new is the thing we solve for\n",
    "                                                  "
   ]
  },
  {
   "cell_type": "markdown",
   "id": "14db26a5",
   "metadata": {},
   "source": [
    "## Implement the algorithm"
   ]
  },
  {
   "cell_type": "code",
   "execution_count": null,
   "id": "49c60248",
   "metadata": {},
   "outputs": [],
   "source": [
    "# Edit this - restrictions on c(t) and mu(t) in the matrix\n",
    "def u_mat(ngm, v):\n",
    "    grid = ngm.grid\n",
    "    u, f = ngm.u, ngm.f\n",
    "    β, δ = ngm.β, ngm.δ\n",
    "    \n",
    "    u_out = np.zeros((len(ngm.grid), len(ngm.grid)))\n",
    "    \n",
    "    for i in range(len(grid)):\n",
    "        \n",
    "        for j in range(len(grid)):\n",
    "            \n",
    "            if (grid[j] > (1-δ)*grid[i] and grid[j] < f(grid[i]) + (1-δ)*grid[i]):\n",
    "                \n",
    "                u_out[i,j] = u(f(grid[i]) + (1-δ)*grid[i] - grid[j]) + β*v[j]\n",
    "            \n",
    "            else:\n",
    "                u_out[i,j] = -np.Inf\n",
    "                   \n",
    "    return u_out"
   ]
  }
 ],
 "metadata": {
  "kernelspec": {
   "display_name": "Python 3",
   "language": "python",
   "name": "python3"
  },
  "language_info": {
   "codemirror_mode": {
    "name": "ipython",
    "version": 3
   },
   "file_extension": ".py",
   "mimetype": "text/x-python",
   "name": "python",
   "nbconvert_exporter": "python",
   "pygments_lexer": "ipython3",
   "version": "3.7.10"
  },
  "varInspector": {
   "cols": {
    "lenName": 16,
    "lenType": 16,
    "lenVar": 40
   },
   "kernels_config": {
    "python": {
     "delete_cmd_postfix": "",
     "delete_cmd_prefix": "del ",
     "library": "var_list.py",
     "varRefreshCmd": "print(var_dic_list())"
    },
    "r": {
     "delete_cmd_postfix": ") ",
     "delete_cmd_prefix": "rm(",
     "library": "var_list.r",
     "varRefreshCmd": "cat(var_dic_list()) "
    }
   },
   "types_to_exclude": [
    "module",
    "function",
    "builtin_function_or_method",
    "instance",
    "_Feature"
   ],
   "window_display": false
  }
 },
 "nbformat": 4,
 "nbformat_minor": 5
}
