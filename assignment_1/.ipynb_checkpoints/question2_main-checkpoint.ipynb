{
 "cells": [
  {
   "cell_type": "markdown",
   "id": "035d1be4",
   "metadata": {},
   "source": [
    "## Problem Set 1 Question 2"
   ]
  },
  {
   "cell_type": "markdown",
   "id": "4c258b4a",
   "metadata": {},
   "source": [
    "First, we load libraries again, included in e.g. Conda python. "
   ]
  },
  {
   "cell_type": "code",
   "execution_count": 1,
   "id": "1bfe5c39",
   "metadata": {},
   "outputs": [],
   "source": [
    "%matplotlib inline\n",
    "import matplotlib.pyplot as plt\n",
    "plt.rcParams[\"figure.figsize\"] = (11, 5)  #set default figure size\n",
    "\n",
    "import numpy as np"
   ]
  },
  {
   "cell_type": "markdown",
   "id": "5accc4d1",
   "metadata": {},
   "source": [
    "## Implement the model\n"
   ]
  },
  {
   "cell_type": "code",
   "execution_count": 34,
   "id": "75f74dbc",
   "metadata": {},
   "outputs": [],
   "source": [
    "class iam():\n",
    "\n",
    "    def __init__(self, σ=1, β=0.75, δ=0.5, α=1/3,\n",
    "                a1 = 0.06, a2 = 2.8, b1 = 0.5, b2 = 2,\n",
    "                γ = 0.13,\n",
    "                φ = 0.06):\n",
    "        'Parameters:'\n",
    "        self.σ, self.β, self.δ, self.α, self.a1, self.a2, self.b1, self.b2, self.γ, self.φ = σ, β, δ, α, a1, a2, b1, b2, γ, φ\n",
    "        \n",
    "        'Endogenous outcomes and endogenous grid:'\n",
    "        self.k0 = 0.1\n",
    "        self.m0 = 0\n",
    "        \n",
    "        self.steadystate = self.ss()\n",
    "        self.grid = self.create_grid()\n",
    "        self.v_initial = self.v_initial()\n",
    "\n",
    "    def u(self, c):\n",
    "        'Utility function'\n",
    "        σ = self.σ\n",
    "\n",
    "        return c ** (1 - σ) / (1 - σ) if σ!= 1 else np.log(c)\n",
    "\n",
    "    def u_prime(self, c):\n",
    "        'Derivative of utility'\n",
    "        σ = self.σ\n",
    "\n",
    "        return c ** (-σ)\n",
    "\n",
    "    def f(self, k):\n",
    "        'Production function'\n",
    "        α = self.α\n",
    "\n",
    "        return k ** α\n",
    "\n",
    "    def f_prime(self, k):\n",
    "        'Derivative of production function'\n",
    "        α = self.α\n",
    "\n",
    "        return α * k ** (α - 1)\n",
    "    \n",
    "    def f_prime_inv(self, k):\n",
    "        'Inverse of derivative of production function'\n",
    "        α = self.α \n",
    "\n",
    "        return (k / α) ** (1 / (α - 1))\n",
    "\n",
    "    def ss(self):\n",
    "        'Define the steady-state equation s.t. RHS=0'\n",
    "        β, δ = self.β, self.δ\n",
    "        f_prime_inv = self.f_prime_inv\n",
    "        \n",
    "        return f_prime_inv(1/β - (1-δ))\n",
    "    \n",
    "    def create_grid(self):\n",
    "        'Create a grid as prescribed in the assignment'\n",
    "        n_k = 100j\n",
    "        n_m = 100j\n",
    "        k1, k_nk = 0.1, 0.4\n",
    "        m1, m_nm = 1e-10, 0.5\n",
    "\n",
    "        s = np.mgrid[k1:k_nk:n_k, m1:m_nm:n_m].reshape(2,-1).T\n",
    "\n",
    "        return s\n",
    "    \n",
    "    def v_initial(self):\n",
    "        'Create initialization for value function'\n",
    "        grid = self.grid\n",
    "        v_initial = np.zeros_like(self.grid[:,0])\n",
    "        return v_initial      \n",
    "    \n",
    "    def state_action_value(self, k_new, m_new, k, m):\n",
    "        'Method to evaluate the value of inst. consumption given a certain policy'\n",
    "        # interpolation of value function (probably not necessary)\n",
    "        # v = lambda x: interp(self.grid, v_array, x)\n",
    "        #functions\n",
    "        u, f = self.u, self.f\n",
    "        #parameters\n",
    "        β, δ, a1, a2, b1, b2, φ, γ, α = self.β, self.δ, self.a1, self.a2, self.b1, self.b2, self.φ, self.γ, self.α\n",
    "        \n",
    "        #write the RHS bellman eq. in separate, tractable parts\n",
    "        mu_t = ((1-φ)*m - m_new)/(γ*(k**α)) + 1\n",
    "        c_t = (1-a1*(mu_t**a2))/(1+b1*(m**b2))*k**α + (1-δ)*k - k_new\n",
    "                \n",
    "        return mu_t, c_t \n",
    "                                                  "
   ]
  },
  {
   "cell_type": "markdown",
   "id": "14db26a5",
   "metadata": {},
   "source": [
    "## Implement the algorithm"
   ]
  },
  {
   "cell_type": "code",
   "execution_count": 43,
   "id": "49c60248",
   "metadata": {},
   "outputs": [],
   "source": [
    "# Edit this - restrictions on c(t) and mu(t) in the matrix\n",
    "def u_mat(iam, v):\n",
    "    grid = iam.grid\n",
    "    #functions\n",
    "    u, f = iam.u, iam.f\n",
    "    #parameters\n",
    "    β, δ, a1, a2, b1, b2, φ, γ, α = iam.β, iam.δ, iam.a1, iam.a2, iam.b1, iam.b2, iam.φ, iam.γ, iam.α\n",
    "      \n",
    "    u_out = np.zeros((len(iam.grid), len(iam.grid)))\n",
    "    \n",
    "    for i in range(len(grid)):\n",
    "        \n",
    "        for j in range(len(grid)):\n",
    "            \n",
    "            # rename the variables for convenience\n",
    "            k_new, m_new = grid[j][0], grid[j][1]\n",
    "            k, m = grid[i][0], grid[i][1]\n",
    "            \n",
    "            # Check feasibility and evaluate instantaneous utility       \n",
    "            mu, c = iam.state_action_value(k_new, m_new, k, m)\n",
    "            \n",
    "            if (c > 0 and 0 <= mu <= 1):\n",
    "                \n",
    "                u_out[i,j] = u(c) + β*v[j]\n",
    "            \n",
    "            else:\n",
    "                u_out[i,j] = -np.Inf\n",
    "                   \n",
    "    return u_out"
   ]
  },
  {
   "cell_type": "code",
   "execution_count": 44,
   "id": "070678cb",
   "metadata": {},
   "outputs": [
    {
     "name": "stderr",
     "output_type": "stream",
     "text": [
      "/home/bas/anaconda3/lib/python3.7/site-packages/ipykernel_launcher.py:83: RuntimeWarning: invalid value encountered in double_scalars\n"
     ]
    }
   ],
   "source": [
    "initial_u = u_mat(iam(), iam().v_initial)\n",
    "\n",
    "np.save(\"./initial_u\", initial_u)"
   ]
  },
  {
   "cell_type": "code",
   "execution_count": 45,
   "id": "3e913ad6",
   "metadata": {},
   "outputs": [],
   "source": [
    "#np.load('./initial_u.npy')"
   ]
  },
  {
   "cell_type": "code",
   "execution_count": 46,
   "id": "db55452b",
   "metadata": {},
   "outputs": [
    {
     "data": {
      "text/plain": [
       "array([[-0.9511168 , -0.93558693, -0.92259842, ...,        -inf,\n",
       "               -inf,        -inf],\n",
       "       [       -inf, -0.95012257, -0.93475308, ...,        -inf,\n",
       "               -inf,        -inf],\n",
       "       [       -inf,        -inf, -0.94916727, ...,        -inf,\n",
       "               -inf,        -inf],\n",
       "       ...,\n",
       "       [       -inf,        -inf,        -inf, ..., -0.81256404,\n",
       "        -0.80624993, -0.80083746],\n",
       "       [       -inf,        -inf,        -inf, ..., -0.82261421,\n",
       "        -0.81537746, -0.80911326],\n",
       "       [       -inf,        -inf,        -inf, ..., -0.83363663,\n",
       "        -0.82540614, -0.81822261]])"
      ]
     },
     "execution_count": 46,
     "metadata": {},
     "output_type": "execute_result"
    }
   ],
   "source": [
    "initial_u"
   ]
  },
  {
   "cell_type": "code",
   "execution_count": 52,
   "id": "8a947734",
   "metadata": {},
   "outputs": [],
   "source": [
    "def value_function_iteration(iam,\n",
    "                             initial_matrix,\n",
    "                             tol=1e-4,\n",
    "                             max_iter=1000,\n",
    "                             verbose=True,\n",
    "                             print_skip=5):\n",
    "    'Compute the value function through the fixed point of a contraction mapping'\n",
    "    # Set up loop\n",
    "    v = iam.v_initial # Initial guess\n",
    "    initial_u = initial_matrix\n",
    "    \n",
    "    i = 0\n",
    "    error = tol + 1\n",
    "    \n",
    "    while i < max_iter and error > tol:\n",
    "        \n",
    "        new_u = initial_u + iam.β*v\n",
    "        v_new, km_new = np.max(new_u, axis=1), np.argmax(new_u, axis=1) #both k and m are contained in this index\n",
    "        \n",
    "        error = np.max(np.abs(v - v_new))\n",
    "        i += 1\n",
    "        \n",
    "        if verbose and i % print_skip == 0:\n",
    "            print(f\"Error at iteration {i} is {error}.\")\n",
    "            \n",
    "        v = v_new\n",
    "\n",
    "    if i == max_iter:\n",
    "        print(\"Failed to converge!\")\n",
    "\n",
    "    if verbose and i < max_iter:\n",
    "        print(f\"\\nConverged in {i} iterations.\")\n",
    "\n",
    "    return v_new, km_new"
   ]
  },
  {
   "cell_type": "code",
   "execution_count": 53,
   "id": "c70f416a",
   "metadata": {},
   "outputs": [
    {
     "name": "stdout",
     "output_type": "stream",
     "text": [
      "Error at iteration 5 is 0.3066376040176211.\n",
      "Error at iteration 10 is 0.07202092384118863.\n",
      "Error at iteration 15 is 0.017040563445804402.\n",
      "Error at iteration 20 is 0.004038417478848366.\n",
      "Error at iteration 25 is 0.0009570618601122405.\n",
      "Error at iteration 30 is 0.0002271152656323494.\n",
      "\n",
      "Converged in 33 iterations.\n"
     ]
    },
    {
     "data": {
      "text/plain": [
       "(array([-3.38463254, -3.38648579, -3.38842248, ..., -3.04737091,\n",
       "        -3.05619313, -3.06508355]),\n",
       " array([2009, 2009, 2010, ..., 6195, 6196, 6197]))"
      ]
     },
     "execution_count": 53,
     "metadata": {},
     "output_type": "execute_result"
    }
   ],
   "source": [
    "value_function_iteration(iam(), initial_u)"
   ]
  },
  {
   "cell_type": "markdown",
   "id": "c1730f77",
   "metadata": {},
   "source": [
    "## A Couple of Functions to Plot Policy\n",
    "\n",
    "As per the assignment:"
   ]
  },
  {
   "cell_type": "code",
   "execution_count": null,
   "id": "27dcaf6c",
   "metadata": {},
   "outputs": [],
   "source": []
  }
 ],
 "metadata": {
  "kernelspec": {
   "display_name": "Python 3",
   "language": "python",
   "name": "python3"
  },
  "language_info": {
   "codemirror_mode": {
    "name": "ipython",
    "version": 3
   },
   "file_extension": ".py",
   "mimetype": "text/x-python",
   "name": "python",
   "nbconvert_exporter": "python",
   "pygments_lexer": "ipython3",
   "version": "3.7.10"
  },
  "varInspector": {
   "cols": {
    "lenName": 16,
    "lenType": 16,
    "lenVar": 40
   },
   "kernels_config": {
    "python": {
     "delete_cmd_postfix": "",
     "delete_cmd_prefix": "del ",
     "library": "var_list.py",
     "varRefreshCmd": "print(var_dic_list())"
    },
    "r": {
     "delete_cmd_postfix": ") ",
     "delete_cmd_prefix": "rm(",
     "library": "var_list.r",
     "varRefreshCmd": "cat(var_dic_list()) "
    }
   },
   "types_to_exclude": [
    "module",
    "function",
    "builtin_function_or_method",
    "instance",
    "_Feature"
   ],
   "window_display": false
  }
 },
 "nbformat": 4,
 "nbformat_minor": 5
}
