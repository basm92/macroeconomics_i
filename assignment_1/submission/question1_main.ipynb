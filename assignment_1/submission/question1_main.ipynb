{
 "cells": [
  {
   "cell_type": "markdown",
   "id": "97d8ed19",
   "metadata": {},
   "source": [
    "## Problem Set 1: Question 1\n",
    "\n",
    "This first chunk shows the required libraries. Everything should be included in e.g. Conda Python. "
   ]
  },
  {
   "cell_type": "code",
   "execution_count": 1,
   "id": "1def3762",
   "metadata": {},
   "outputs": [],
   "source": [
    "%matplotlib inline\n",
    "import matplotlib.pyplot as plt\n",
    "plt.rcParams[\"figure.figsize\"] = (11, 5)  #set default figure size\n",
    "\n",
    "import numpy as np"
   ]
  },
  {
   "cell_type": "markdown",
   "id": "a2f94584",
   "metadata": {},
   "source": [
    "## Implement the model\n"
   ]
  },
  {
   "cell_type": "code",
   "execution_count": 2,
   "id": "9f722bfb",
   "metadata": {},
   "outputs": [],
   "source": [
    "class ngm():\n",
    "\n",
    "    def __init__(self, σ=1, β=0.984, δ=0.025, α=1/3):\n",
    "        'Parameters:'\n",
    "        self.σ, self.β, self.δ, self.α = σ, β, δ, α\n",
    "        \n",
    "        'Endogenous outcomes and endogenous grid:'\n",
    "        self.steadystate = self.ss()\n",
    "        self.k0 = 0.75*self.ss()\n",
    "        self.grid = self.create_grid(self.steadystate)\n",
    "        self.v_initial = self.v_initial()\n",
    "\n",
    "    def u(self, c):\n",
    "        'Utility function'\n",
    "        σ = self.σ\n",
    "\n",
    "        return (c ** (1 - σ) - 1) / (1 - σ) if σ!= 1 else np.log(c)\n",
    "\n",
    "    def u_prime(self, c):\n",
    "        'Derivative of utility'\n",
    "        σ = self.σ\n",
    "\n",
    "        return c ** (-σ)\n",
    "\n",
    "    def f(self, k):\n",
    "        'Production function'\n",
    "        α = self.α\n",
    "\n",
    "        return k ** α\n",
    "\n",
    "    def f_prime(self, k):\n",
    "        'Derivative of production function'\n",
    "        α = self.α\n",
    "\n",
    "        return α * k ** (α - 1)\n",
    "    \n",
    "    def f_prime_inv(self, k):\n",
    "        'Inverse of derivative of production function'\n",
    "        α = self.α \n",
    "\n",
    "        return (k / α) ** (1 / (α - 1))\n",
    "\n",
    "    def ss(self):\n",
    "        'Define the steady-state equation s.t. RHS=0'\n",
    "        β, δ = self.β, self.δ\n",
    "        f_prime_inv = self.f_prime_inv\n",
    "        \n",
    "        return f_prime_inv(1/β - (1-δ))\n",
    "    \n",
    "    def create_grid(self, reference):\n",
    "        'Create a grid as prescribed in the assignment'\n",
    "        grid = np.linspace(0.5 * reference, 1.5 * reference, 1000)\n",
    "        return grid\n",
    "    \n",
    "    def v_initial(self):\n",
    "        'Create initialization for value function'\n",
    "        grid = self.grid\n",
    "        v_initial = np.zeros_like(grid)\n",
    "        return v_initial      \n",
    "    \n",
    "    def state_action_value(self, k_new, k, v_array):\n",
    "        v = lambda x: interp(self.grid, v_array, x)\n",
    "        \n",
    "        u, f = self.u, self.f\n",
    "        β, δ = self.β, self.δ\n",
    "        return u(f(k) + (1-δ)*k - k_new) + β*v(k_new)   #k_new is the thing we solve for\n",
    "                                                        # This is the right hand side of the bellman"
   ]
  },
  {
   "cell_type": "markdown",
   "id": "57800dbc",
   "metadata": {},
   "source": [
    "## Implement the algorithm\n",
    "\n",
    "As in the assignment:"
   ]
  },
  {
   "cell_type": "code",
   "execution_count": 3,
   "id": "e9aa0b8f",
   "metadata": {},
   "outputs": [],
   "source": [
    "def u_mat(ngm, v):\n",
    "    grid = ngm.grid\n",
    "    u, f = ngm.u, ngm.f\n",
    "    β, δ = ngm.β, ngm.δ\n",
    "    \n",
    "    u_out = np.zeros((len(ngm.grid), len(ngm.grid)))\n",
    "    \n",
    "    for i in range(len(grid)):\n",
    "        \n",
    "        for j in range(len(grid)):\n",
    "            \n",
    "            if (grid[j] > (1-δ)*grid[i] and grid[j] < f(grid[i]) + (1-δ)*grid[i]):\n",
    "                \n",
    "                u_out[i,j] = u(f(grid[i]) + (1-δ)*grid[i] - grid[j]) + β*v[j]\n",
    "            \n",
    "            else:\n",
    "                u_out[i,j] = -np.Inf\n",
    "                   \n",
    "    return u_out\n",
    "            "
   ]
  },
  {
   "cell_type": "code",
   "execution_count": 4,
   "id": "63cfac8c",
   "metadata": {},
   "outputs": [],
   "source": [
    "def value_function_iteration(ngm,\n",
    "                             tol=1e-4,\n",
    "                             max_iter=1000,\n",
    "                             verbose=True,\n",
    "                             print_skip=100):\n",
    "    'Compute the value function through the fixed point of a contraction mapping'\n",
    "    # Set up loop\n",
    "    v = ngm.v_initial # Initial guess\n",
    "    initial_u = u_mat(ngm, v)\n",
    "    \n",
    "    i = 0\n",
    "    error = tol + 1\n",
    "    \n",
    "    while i < max_iter and error > tol:\n",
    "        \n",
    "        new_u = initial_u + ngm.β*v\n",
    "        v_new, k_new = np.max(new_u, axis=1), np.argmax(new_u, axis=1)\n",
    "        \n",
    "        \n",
    "        error = np.max(np.abs(v - v_new))\n",
    "        i += 1\n",
    "        \n",
    "        if verbose and i % print_skip == 0:\n",
    "            print(f\"Error at iteration {i} is {error}.\")\n",
    "            \n",
    "        v = v_new\n",
    "\n",
    "    if i == max_iter:\n",
    "        print(\"Failed to converge!\")\n",
    "\n",
    "    if verbose and i < max_iter:\n",
    "        print(f\"\\nConverged in {i} iterations.\")\n",
    "\n",
    "    return v_new, k_new"
   ]
  },
  {
   "cell_type": "code",
   "execution_count": 5,
   "id": "1b329b58",
   "metadata": {},
   "outputs": [
    {
     "name": "stdout",
     "output_type": "stream",
     "text": [
      "Error at iteration 100 is 0.15208361821300542.\n",
      "Error at iteration 200 is 0.03021402670641038.\n",
      "Error at iteration 300 is 0.0060216908022496796.\n",
      "Error at iteration 400 is 0.0012001300082005173.\n",
      "Error at iteration 500 is 0.0002391873120046739.\n",
      "\n",
      "Converged in 555 iterations.\n",
      "Error at iteration 100 is 0.048477169271352594.\n",
      "Error at iteration 200 is 0.009619938872637235.\n",
      "Error at iteration 300 is 0.0019154393736240394.\n",
      "Error at iteration 400 is 0.0003817493037523434.\n",
      "\n",
      "Converged in 484 iterations.\n"
     ]
    }
   ],
   "source": [
    "v_conv, k_conv_index = value_function_iteration(ngm())\n",
    "\n",
    "vconv_five, k_conv_index_five = value_function_iteration(ngm(σ=5))"
   ]
  },
  {
   "cell_type": "code",
   "execution_count": 13,
   "id": "d1c88ea1",
   "metadata": {},
   "outputs": [],
   "source": [
    "def plot_policies(ngm, ngm2, k_conv_index, k_conv_index2, T):\n",
    "    'Plot the policy a partir de k0'\n",
    "    # First ngm\n",
    "    grid = ngm.grid\n",
    "    k = []\n",
    "    k0 = grid.flat[np.abs(ngm.grid - ngm.k0).argmin()]\n",
    "    \n",
    "    k.append(k0)\n",
    "    \n",
    "    # Second ngm\n",
    "    grid2 = ngm2.grid\n",
    "    k2 = []\n",
    "    k02 = grid2.flat[np.abs(ngm2.grid - ngm2.k0).argmin()]\n",
    "    \n",
    "    k2.append(k02)\n",
    "    \n",
    "    \n",
    "    for i in range(T):\n",
    "        index = k_conv_index[grid == k[i]][0]\n",
    "        k.append(grid[index])\n",
    "        \n",
    "        index2 = k_conv_index2[grid2 == k2[i]][0]\n",
    "        k2.append(grid2[index2])\n",
    "        \n",
    "    fig, ax = plt.subplots()\n",
    "    ax.plot(range(T+1), k, color=plt.cm.jet(0),\n",
    "        lw=2, alpha=0.6, label = 'Policy Path Starting from k0 (σ=1)')\n",
    "    \n",
    "    ax.plot(range(T+1), k2, color=plt.cm.jet(1/5),\n",
    "        lw=2, alpha=0.6, label = 'Policy Path Starting from k0 (σ=5)')\n",
    "    \n",
    "    ax.legend()\n",
    "    ax.set_ylabel('Optimal Capital Chosen', fontsize=12)\n",
    "    ax.set_xlabel('Time $t$', fontsize=12)\n",
    "    ax.set_title('Optimal Policy Starting from $K_0$')\n",
    "    \n",
    "    plt.savefig(\"question1_fig.pdf\")\n",
    "    print('The steady state of this model (σ=1) is:', ngm.steadystate)\n",
    "    print('The steady state of this model (σ=5) is:', ngm2.steadystate)\n",
    "    \n",
    "    plt.show()"
   ]
  },
  {
   "cell_type": "code",
   "execution_count": 14,
   "id": "f4a3431c",
   "metadata": {},
   "outputs": [
    {
     "name": "stdout",
     "output_type": "stream",
     "text": [
      "The steady state of this model (σ=1) is: 22.962634609403963\n",
      "The steady state of this model (σ=5) is: 22.962634609403963\n"
     ]
    },
    {
     "data": {
      "image/png": "[encoded data removed]",
      "text/plain": [
       "<Figure size 792x360 with 1 Axes>"
      ]
     },
     "metadata": {
      "needs_background": "light"
     },
     "output_type": "display_data"
    }
   ],
   "source": [
    "plot_policies(ngm(), ngm(σ=5), k_conv_index, k_conv_index_five, 250)"
   ]
  }
 ],
 "metadata": {
  "kernelspec": {
   "display_name": "Python 3",
   "language": "python",
   "name": "python3"
  },
  "language_info": {
   "codemirror_mode": {
    "name": "ipython",
    "version": 3
   },
   "file_extension": ".py",
   "mimetype": "text/x-python",
   "name": "python",
   "nbconvert_exporter": "python",
   "pygments_lexer": "ipython3",
   "version": "3.7.10"
  },
  "varInspector": {
   "cols": {
    "lenName": 16,
    "lenType": 16,
    "lenVar": 40
   },
   "kernels_config": {
    "python": {
     "delete_cmd_postfix": "",
     "delete_cmd_prefix": "del ",
     "library": "var_list.py",
     "varRefreshCmd": "print(var_dic_list())"
    },
    "r": {
     "delete_cmd_postfix": ") ",
     "delete_cmd_prefix": "rm(",
     "library": "var_list.r",
     "varRefreshCmd": "cat(var_dic_list()) "
    }
   },
   "types_to_exclude": [
    "module",
    "function",
    "builtin_function_or_method",
    "instance",
    "_Feature"
   ],
   "window_display": false
  }
 },
 "nbformat": 4,
 "nbformat_minor": 5
}
